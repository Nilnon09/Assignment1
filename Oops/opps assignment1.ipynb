{
 "cells": [
  {
   "cell_type": "markdown",
   "id": "c23ea228",
   "metadata": {},
   "source": [
    "Q1. Create a vehicle class with an init method having instance variables as name_of_vehicle, max_speed\n",
    "and average_of_vehicle."
   ]
  },
  {
   "cell_type": "code",
   "execution_count": 35,
   "id": "88b78968-0f7b-43a7-9ec5-5f11274e2681",
   "metadata": {},
   "outputs": [],
   "source": [
    "class vehicle_class:\n",
    "    def __init__(self,name,max_speed,avg_speed):\n",
    "        self.name=name\n",
    "        self.max_speed=max_speed\n",
    "        self.avg_speed=avg_speed"
   ]
  },
  {
   "cell_type": "code",
   "execution_count": 36,
   "id": "4ba510fe-67c2-4250-ab58-005fb9f43043",
   "metadata": {},
   "outputs": [],
   "source": [
    "new=vehicle_class('Platina','60kph','150kph')"
   ]
  },
  {
   "cell_type": "code",
   "execution_count": 37,
   "id": "423a2c95-7ecf-4caf-8d60-9dcde99f29ac",
   "metadata": {},
   "outputs": [
    {
     "data": {
      "text/plain": [
       "'Platina'"
      ]
     },
     "execution_count": 37,
     "metadata": {},
     "output_type": "execute_result"
    }
   ],
   "source": [
    "new.name"
   ]
  },
  {
   "cell_type": "code",
   "execution_count": 38,
   "id": "a824e0d4-d6dd-4145-8200-ec11ee3e795a",
   "metadata": {},
   "outputs": [
    {
     "data": {
      "text/plain": [
       "'150kph'"
      ]
     },
     "execution_count": 38,
     "metadata": {},
     "output_type": "execute_result"
    }
   ],
   "source": [
    "new.avg_speed"
   ]
  },
  {
   "cell_type": "code",
   "execution_count": 39,
   "id": "1c474118-d9ba-42ef-8b15-3fab18f6330f",
   "metadata": {},
   "outputs": [
    {
     "data": {
      "text/plain": [
       "'60kph'"
      ]
     },
     "execution_count": 39,
     "metadata": {},
     "output_type": "execute_result"
    }
   ],
   "source": [
    "new.max_speed"
   ]
  },
  {
   "cell_type": "code",
   "execution_count": null,
   "id": "611951dc-7253-4390-b129-7356cd80a7ba",
   "metadata": {},
   "outputs": [],
   "source": []
  },
  {
   "cell_type": "markdown",
   "id": "ad5e5508",
   "metadata": {},
   "source": [
    "Q2. Create a child class car from the vehicle class created in Que 1, which will inherit the vehicle class.\n",
    "Create a method named seating_capacity which takes capacity as an argument and returns the name of\n",
    "the vehicle and its seating capacity."
   ]
  },
  {
   "cell_type": "code",
   "execution_count": 9,
   "id": "0c2bc0de-a1fd-43a2-a4fb-f072fc7b9bf1",
   "metadata": {},
   "outputs": [],
   "source": [
    "class vehicle_class:\n",
    "    def __init__(self,name,max_speed,avg_speed):\n",
    "        self.name=name\n",
    "        self.max_speed=max_speed\n",
    "        self.avg_speed=avg_speed\n",
    "        \n",
    "class childclass_car(vehicle_class):\n",
    "    def seating_capacity(self,capacity):\n",
    "        return self.name,capacity\n",
    "    \n",
    "    \n",
    "        "
   ]
  },
  {
   "cell_type": "code",
   "execution_count": 10,
   "id": "091ba320-8a25-450c-83db-68ecf12d74a0",
   "metadata": {},
   "outputs": [],
   "source": [
    "a=vehicle_class('Honda','120kph','10kph')"
   ]
  },
  {
   "cell_type": "code",
   "execution_count": 3,
   "id": "28eb17c0-c009-47fd-b6b1-0a4cd8ebd2bf",
   "metadata": {},
   "outputs": [
    {
     "data": {
      "text/plain": [
       "<__main__.vehicle_class at 0x7fadd248c3d0>"
      ]
     },
     "execution_count": 3,
     "metadata": {},
     "output_type": "execute_result"
    }
   ],
   "source": [
    "a"
   ]
  },
  {
   "cell_type": "code",
   "execution_count": 5,
   "id": "b8e6c927-cb48-45e3-b9fe-913d31600ac1",
   "metadata": {},
   "outputs": [
    {
     "data": {
      "text/plain": [
       "'Honda'"
      ]
     },
     "execution_count": 5,
     "metadata": {},
     "output_type": "execute_result"
    }
   ],
   "source": [
    "a.name"
   ]
  },
  {
   "cell_type": "code",
   "execution_count": 6,
   "id": "24d60174-db30-4ebd-ac32-ff324f3b1bd4",
   "metadata": {},
   "outputs": [
    {
     "data": {
      "text/plain": [
       "'10kph'"
      ]
     },
     "execution_count": 6,
     "metadata": {},
     "output_type": "execute_result"
    }
   ],
   "source": [
    "a.avg_speed"
   ]
  },
  {
   "cell_type": "code",
   "execution_count": 8,
   "id": "300c3caa-2e7a-47ed-9012-6ffcbcfd2b16",
   "metadata": {},
   "outputs": [
    {
     "data": {
      "text/plain": [
       "'120kph'"
      ]
     },
     "execution_count": 8,
     "metadata": {},
     "output_type": "execute_result"
    }
   ],
   "source": [
    "a.max_speed"
   ]
  },
  {
   "cell_type": "code",
   "execution_count": 13,
   "id": "b5b4cf3f-f567-4225-a61f-ebfa8b7e51d4",
   "metadata": {},
   "outputs": [],
   "source": [
    "b=childclass_car('Swift',20,10)"
   ]
  },
  {
   "cell_type": "code",
   "execution_count": 15,
   "id": "aef86f6a-df49-4e68-8bce-13de1e6fda17",
   "metadata": {},
   "outputs": [
    {
     "data": {
      "text/plain": [
       "('Swift', 5)"
      ]
     },
     "execution_count": 15,
     "metadata": {},
     "output_type": "execute_result"
    }
   ],
   "source": [
    "b.seating_capacity(5)"
   ]
  },
  {
   "cell_type": "code",
   "execution_count": null,
   "id": "70e6ea0b-4b35-4097-b03b-8405faa20593",
   "metadata": {},
   "outputs": [],
   "source": []
  },
  {
   "cell_type": "code",
   "execution_count": null,
   "id": "01c4795a-da75-42ca-973f-4d07c7ae7f0b",
   "metadata": {},
   "outputs": [],
   "source": []
  },
  {
   "cell_type": "markdown",
   "id": "0b8bc7e7",
   "metadata": {},
   "source": [
    "Q3. What is multiple inheritance? Write a python code to demonstrate multiple inheritance.\n"
   ]
  },
  {
   "cell_type": "markdown",
   "id": "b03e9dbc-ec37-4067-a267-4b355815a137",
   "metadata": {},
   "source": [
    "Multiple Inheritance"
   ]
  },
  {
   "cell_type": "code",
   "execution_count": 24,
   "id": "724d8849-a571-4e7b-a3d8-b7206d73f638",
   "metadata": {},
   "outputs": [],
   "source": [
    "class classnew1:\n",
    "    def test1_class(self):\n",
    "        return \"this is clssnew1\"\n",
    "class classnew2(classnew1):\n",
    "    def test2_class(self):\n",
    "        return \"this is my classnew2\"        \n",
    "class classnew3(classnew2):\n",
    "    def test3_class(self):\n",
    "        return\"this is classnew3\"        \n"
   ]
  },
  {
   "cell_type": "code",
   "execution_count": 25,
   "id": "6d24f2bb-0f67-4a34-bfe1-77e6e7d70615",
   "metadata": {},
   "outputs": [],
   "source": [
    "objnew1_class=classnew2()\n"
   ]
  },
  {
   "cell_type": "code",
   "execution_count": 26,
   "id": "e172d31e-e9ab-4695-9e95-d6b001ad4369",
   "metadata": {},
   "outputs": [],
   "source": [
    "objnew2_class=classnew3()\n"
   ]
  },
  {
   "cell_type": "code",
   "execution_count": 27,
   "id": "8591b551-67d9-4320-9f61-5799fa366fa7",
   "metadata": {},
   "outputs": [
    {
     "data": {
      "text/plain": [
       "'this is clssnew1'"
      ]
     },
     "execution_count": 27,
     "metadata": {},
     "output_type": "execute_result"
    }
   ],
   "source": [
    "objnew1_class.test1_class()\n"
   ]
  },
  {
   "cell_type": "code",
   "execution_count": 28,
   "id": "ef9a7f6c-c35f-4c9d-ac07-d8c470eae8f8",
   "metadata": {},
   "outputs": [
    {
     "data": {
      "text/plain": [
       "'this is my classnew2'"
      ]
     },
     "execution_count": 28,
     "metadata": {},
     "output_type": "execute_result"
    }
   ],
   "source": [
    "objnew2_class.test2_class()"
   ]
  },
  {
   "cell_type": "code",
   "execution_count": null,
   "id": "ea17b5ba-81d0-4314-8f2a-e8cf5c18abdd",
   "metadata": {},
   "outputs": [],
   "source": []
  },
  {
   "cell_type": "code",
   "execution_count": null,
   "id": "a6edcb36-d47b-4c7f-8260-8eb65999c088",
   "metadata": {},
   "outputs": [],
   "source": []
  },
  {
   "cell_type": "markdown",
   "id": "7f121d17",
   "metadata": {},
   "source": [
    "Q4. What are getter and setter in python? Create a class and create a getter and a setter method in this\n",
    "class."
   ]
  },
  {
   "cell_type": "markdown",
   "id": "f3d7dda6-25cf-48b1-96d5-e181639d3349",
   "metadata": {},
   "source": [
    "Getter and Setter\n"
   ]
  },
  {
   "cell_type": "markdown",
   "id": "3748dff1-c3fb-4048-996f-31e940b55d98",
   "metadata": {},
   "source": [
    "Getters: These are the methods used in Object-Oriented Programming (OOPS) which helps to access the private attributes from a class. Setters: These are the methods used in OOPS feature which helps to set the value to private attributes in a class."
   ]
  },
  {
   "cell_type": "code",
   "execution_count": 17,
   "id": "665829f2-4b95-4e0f-9c37-46faff6ef0a7",
   "metadata": {},
   "outputs": [],
   "source": [
    "class cars :\n",
    "    def __init__(self, make ,model, speed):\n",
    "        self.__make=make\n",
    "        self.__model=model\n",
    "        self.__speed=speed\n",
    "        \n",
    "    def set_speed(self,speed):\n",
    "        self.__speed= self.__speed+ speed \n",
    "\n",
    "    def get_speed(self):\n",
    "        return self.__speed"
   ]
  },
  {
   "cell_type": "code",
   "execution_count": 18,
   "id": "d3ee524d-9964-4f71-ac1d-060f523ca6cb",
   "metadata": {},
   "outputs": [],
   "source": [
    "c=cars(\"India\",\"Swift\",120)"
   ]
  },
  {
   "cell_type": "markdown",
   "id": "660077e4-eb3f-4deb-b312-70681e0e58de",
   "metadata": {},
   "source": [
    "we can not see the make,model and speed of the car to see it we have to write the the below code"
   ]
  },
  {
   "cell_type": "code",
   "execution_count": 20,
   "id": "1ad15cc2-92b4-4ae4-8eee-e4449e9818b6",
   "metadata": {},
   "outputs": [
    {
     "data": {
      "text/plain": [
       "'India'"
      ]
     },
     "execution_count": 20,
     "metadata": {},
     "output_type": "execute_result"
    }
   ],
   "source": [
    "c._cars__make"
   ]
  },
  {
   "cell_type": "code",
   "execution_count": 22,
   "id": "2d843759-d7ae-4ed2-8682-7741c6174aef",
   "metadata": {},
   "outputs": [],
   "source": [
    "c._cars__make='japan'"
   ]
  },
  {
   "cell_type": "markdown",
   "id": "c0468e80-5371-4d7d-9244-0ce41487d8a6",
   "metadata": {},
   "source": [
    "To change what is written inside the code is"
   ]
  },
  {
   "cell_type": "code",
   "execution_count": 23,
   "id": "7f71e4ec-f291-4135-b87f-13d695e1e77a",
   "metadata": {},
   "outputs": [
    {
     "data": {
      "text/plain": [
       "'japan'"
      ]
     },
     "execution_count": 23,
     "metadata": {},
     "output_type": "execute_result"
    }
   ],
   "source": [
    "c._cars__make"
   ]
  },
  {
   "cell_type": "code",
   "execution_count": null,
   "id": "207fd61f-b3bf-4f61-ba03-cd9767c827e9",
   "metadata": {},
   "outputs": [],
   "source": []
  },
  {
   "cell_type": "code",
   "execution_count": null,
   "id": "2f9d2a0e-7f97-40c4-a94f-f8ff4252313a",
   "metadata": {},
   "outputs": [],
   "source": []
  },
  {
   "cell_type": "markdown",
   "id": "95f89d28",
   "metadata": {},
   "source": [
    "Q5.What is method overriding in python? Write a python code to demonstrate method overriding."
   ]
  },
  {
   "cell_type": "markdown",
   "id": "13726769-71b6-4191-8cc7-cbed314716a9",
   "metadata": {},
   "source": [
    "Overriding"
   ]
  },
  {
   "cell_type": "code",
   "execution_count": 29,
   "id": "9498973f-f3c7-4697-823e-bfdcdf70399f",
   "metadata": {},
   "outputs": [],
   "source": [
    "class school(): \n",
    "      \n",
    "    # Constructor \n",
    "    def __init__(self): \n",
    "        self.value = \"school hai\"\n",
    "          \n",
    "    # Parent's show method \n",
    "    def show(self): \n",
    "        print(self.value) \n",
    "          \n",
    "# Defining child class \n",
    "class Childeren(school): \n",
    "      \n",
    "    # Constructor \n",
    "    def __init__(self): \n",
    "        self.value = \"Childeren class mein hai\"\n",
    "          \n",
    "    # Child's show method \n",
    "    def show(self): \n",
    "        print(self.value) \n",
    "          \n",
    "          \n"
   ]
  },
  {
   "cell_type": "markdown",
   "id": "1742f30d-a4c2-40ab-a53a-c67d145fe23e",
   "metadata": {},
   "source": [
    "Here we are using fuction show in two different class but they are inherited ,makes it overriding"
   ]
  },
  {
   "cell_type": "code",
   "execution_count": 31,
   "id": "65be4393-92d8-495d-90f9-67d93faf8df2",
   "metadata": {},
   "outputs": [],
   "source": [
    "# Driver's code \n",
    "obj1 = school() \n"
   ]
  },
  {
   "cell_type": "code",
   "execution_count": 32,
   "id": "89fa4bbd-7f4f-4e2d-8419-8210e519dbf6",
   "metadata": {},
   "outputs": [],
   "source": [
    "obj2 = Childeren() \n",
    "  \n"
   ]
  },
  {
   "cell_type": "code",
   "execution_count": 33,
   "id": "863ca943-3a11-43f7-9d61-110ab984a2a5",
   "metadata": {},
   "outputs": [
    {
     "name": "stdout",
     "output_type": "stream",
     "text": [
      "school hai\n"
     ]
    }
   ],
   "source": [
    "obj1.show() \n",
    "\n"
   ]
  },
  {
   "cell_type": "code",
   "execution_count": 34,
   "id": "c8a39d6f-f829-47f3-a1b8-6291946928b6",
   "metadata": {},
   "outputs": [
    {
     "name": "stdout",
     "output_type": "stream",
     "text": [
      "Childeren class mein hai\n"
     ]
    }
   ],
   "source": [
    "obj2.show() "
   ]
  },
  {
   "cell_type": "code",
   "execution_count": null,
   "id": "0131f79d-7a76-4feb-a2a8-b610c8045fcc",
   "metadata": {},
   "outputs": [],
   "source": []
  }
 ],
 "metadata": {
  "kernelspec": {
   "display_name": "Python 3 (ipykernel)",
   "language": "python",
   "name": "python3"
  },
  "language_info": {
   "codemirror_mode": {
    "name": "ipython",
    "version": 3
   },
   "file_extension": ".py",
   "mimetype": "text/x-python",
   "name": "python",
   "nbconvert_exporter": "python",
   "pygments_lexer": "ipython3",
   "version": "3.10.8"
  }
 },
 "nbformat": 4,
 "nbformat_minor": 5
}
