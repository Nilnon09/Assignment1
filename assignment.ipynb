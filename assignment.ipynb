{
 "cells": [
  {
   "cell_type": "code",
   "execution_count": 13,
   "id": "0c402e7d-83ed-448d-8d2c-39a7c9a70fef",
   "metadata": {},
   "outputs": [],
   "source": [
    "#Question no 1"
   ]
  },
  {
   "cell_type": "code",
   "execution_count": 12,
   "id": "121236cb-d171-4855-b23d-9186954314cd",
   "metadata": {},
   "outputs": [],
   "source": [
    "a=\"nilesh\""
   ]
  },
  {
   "cell_type": "code",
   "execution_count": 2,
   "id": "7a660eef-1209-4355-a9b2-f2f97d1ec0f8",
   "metadata": {},
   "outputs": [
    {
     "data": {
      "text/plain": [
       "str"
      ]
     },
     "execution_count": 2,
     "metadata": {},
     "output_type": "execute_result"
    }
   ],
   "source": [
    "type(a)"
   ]
  },
  {
   "cell_type": "code",
   "execution_count": 3,
   "id": "f4e1eaf4-2726-4007-96c8-bb6027aa9d7f",
   "metadata": {},
   "outputs": [],
   "source": [
    "b=1.456"
   ]
  },
  {
   "cell_type": "code",
   "execution_count": 4,
   "id": "6c8eb71b-cbd5-4aaf-b48b-652cf5b08840",
   "metadata": {},
   "outputs": [
    {
     "data": {
      "text/plain": [
       "float"
      ]
     },
     "execution_count": 4,
     "metadata": {},
     "output_type": "execute_result"
    }
   ],
   "source": [
    "type(b)"
   ]
  },
  {
   "cell_type": "code",
   "execution_count": 7,
   "id": "98d828eb-a4e9-4efb-adeb-639115f229c3",
   "metadata": {},
   "outputs": [],
   "source": [
    "A=[1,2,\"ram\",\"shyam\",5]"
   ]
  },
  {
   "cell_type": "code",
   "execution_count": 8,
   "id": "2667796d-5c5b-416f-9e9d-0eaefe544f58",
   "metadata": {},
   "outputs": [
    {
     "name": "stdout",
     "output_type": "stream",
     "text": [
      "<class 'list'>\n"
     ]
    }
   ],
   "source": [
    "print(type(list))"
   ]
  },
  {
   "cell_type": "code",
   "execution_count": 9,
   "id": "f41852a5-82f5-4760-a952-649607315908",
   "metadata": {},
   "outputs": [],
   "source": [
    "B=(1,2,\"ram\",\"shyam\",5)"
   ]
  },
  {
   "cell_type": "code",
   "execution_count": 10,
   "id": "3e9d4802-dbab-4cff-9e83-87131a92d009",
   "metadata": {},
   "outputs": [
    {
     "name": "stdout",
     "output_type": "stream",
     "text": [
      "<class 'tuple'>\n"
     ]
    }
   ],
   "source": [
    "print(type(B))"
   ]
  },
  {
   "cell_type": "code",
   "execution_count": 14,
   "id": "6936b362-7f2f-4e35-bb21-653e32b8a722",
   "metadata": {},
   "outputs": [],
   "source": [
    "#Question no 2"
   ]
  },
  {
   "cell_type": "code",
   "execution_count": 1,
   "id": "2495bcaa-bc73-495c-8675-5f3ea1725303",
   "metadata": {},
   "outputs": [],
   "source": [
    "var1=''"
   ]
  },
  {
   "cell_type": "code",
   "execution_count": 2,
   "id": "f463a502-3857-42a0-8650-0f8492a99bec",
   "metadata": {},
   "outputs": [
    {
     "name": "stdout",
     "output_type": "stream",
     "text": [
      "<class 'str'>\n"
     ]
    }
   ],
   "source": [
    "print(type(var1))"
   ]
  },
  {
   "cell_type": "raw",
   "id": "517c2df3-b8af-4895-8c51-1cec0e49429b",
   "metadata": {},
   "source": [
    "var2= '[ DS , ML , Python]'"
   ]
  },
  {
   "cell_type": "code",
   "execution_count": 6,
   "id": "d2573734-735c-43d3-97d7-8106a843c572",
   "metadata": {},
   "outputs": [
    {
     "name": "stdout",
     "output_type": "stream",
     "text": [
      "<class 'str'>\n"
     ]
    }
   ],
   "source": [
    "print(type(var2))"
   ]
  },
  {
   "cell_type": "code",
   "execution_count": 8,
   "id": "4afb2feb-7e26-4ee3-89aa-3aed3625120a",
   "metadata": {},
   "outputs": [],
   "source": [
    "var3=[ 'DS' , 'ML' , 'Python' ]"
   ]
  },
  {
   "cell_type": "code",
   "execution_count": 9,
   "id": "e6e0bd58-e861-419f-8130-f19965273522",
   "metadata": {},
   "outputs": [
    {
     "name": "stdout",
     "output_type": "stream",
     "text": [
      "<class 'list'>\n"
     ]
    }
   ],
   "source": [
    "print(type(var3))"
   ]
  },
  {
   "cell_type": "code",
   "execution_count": 10,
   "id": "14c9dfb9-c613-42c7-88e6-4c7c088e5523",
   "metadata": {},
   "outputs": [],
   "source": [
    "var4=1."
   ]
  },
  {
   "cell_type": "code",
   "execution_count": 11,
   "id": "1645429c-1509-4ac5-8da0-ea56881c16f6",
   "metadata": {},
   "outputs": [
    {
     "name": "stdout",
     "output_type": "stream",
     "text": [
      "<class 'float'>\n"
     ]
    }
   ],
   "source": [
    "print(type(var4))"
   ]
  },
  {
   "cell_type": "code",
   "execution_count": 15,
   "id": "49aaa7e6-0538-4ada-b7ca-3a3468b203fc",
   "metadata": {},
   "outputs": [],
   "source": [
    "# Question no 3"
   ]
  },
  {
   "cell_type": "code",
   "execution_count": 19,
   "id": "020c0d0e-6472-4ea0-9520-cb0fbf2c986e",
   "metadata": {},
   "outputs": [],
   "source": [
    "# / operator(it is just a division oparator)"
   ]
  },
  {
   "cell_type": "code",
   "execution_count": 16,
   "id": "a602768b-4625-485d-a56f-27b99f6cf17d",
   "metadata": {},
   "outputs": [
    {
     "data": {
      "text/plain": [
       "2.0"
      ]
     },
     "execution_count": 16,
     "metadata": {},
     "output_type": "execute_result"
    }
   ],
   "source": [
    "4/2"
   ]
  },
  {
   "cell_type": "code",
   "execution_count": 17,
   "id": "4e055e44-e200-4748-80ab-bab94a5ba8d3",
   "metadata": {},
   "outputs": [
    {
     "data": {
      "text/plain": [
       "2.5"
      ]
     },
     "execution_count": 17,
     "metadata": {},
     "output_type": "execute_result"
    }
   ],
   "source": [
    "5/2"
   ]
  },
  {
   "cell_type": "code",
   "execution_count": 20,
   "id": "1f128649-72b9-40ac-9a58-b819eb638f69",
   "metadata": {},
   "outputs": [],
   "source": [
    "# % oparator(it says about the remainder)"
   ]
  },
  {
   "cell_type": "code",
   "execution_count": 18,
   "id": "dd3fa2af-ae40-4b6e-9cf8-09deb58c0d78",
   "metadata": {},
   "outputs": [
    {
     "data": {
      "text/plain": [
       "1"
      ]
     },
     "execution_count": 18,
     "metadata": {},
     "output_type": "execute_result"
    }
   ],
   "source": [
    "5%2"
   ]
  },
  {
   "cell_type": "code",
   "execution_count": 25,
   "id": "442a7834-5acb-4de0-b04d-15cb24079a4a",
   "metadata": {},
   "outputs": [
    {
     "data": {
      "text/plain": [
       "0"
      ]
     },
     "execution_count": 25,
     "metadata": {},
     "output_type": "execute_result"
    }
   ],
   "source": [
    "4%2"
   ]
  },
  {
   "cell_type": "code",
   "execution_count": 23,
   "id": "6371ba3b-ee4e-482b-b7f7-ab6312459676",
   "metadata": {},
   "outputs": [],
   "source": [
    "# //oparator(it says about the quotient)"
   ]
  },
  {
   "cell_type": "code",
   "execution_count": 21,
   "id": "b7ff041a-b56e-4732-bfb9-d42c0e435dec",
   "metadata": {},
   "outputs": [
    {
     "data": {
      "text/plain": [
       "2"
      ]
     },
     "execution_count": 21,
     "metadata": {},
     "output_type": "execute_result"
    }
   ],
   "source": [
    "5//2"
   ]
  },
  {
   "cell_type": "code",
   "execution_count": 22,
   "id": "8588c413-e11a-4815-a9d2-a2ab4c4bb6d7",
   "metadata": {},
   "outputs": [
    {
     "data": {
      "text/plain": [
       "3"
      ]
     },
     "execution_count": 22,
     "metadata": {},
     "output_type": "execute_result"
    }
   ],
   "source": [
    "7//2"
   ]
  },
  {
   "cell_type": "code",
   "execution_count": 24,
   "id": "66e34b0b-802a-4aa1-92c1-4ce57724183a",
   "metadata": {},
   "outputs": [
    {
     "data": {
      "text/plain": [
       "2"
      ]
     },
     "execution_count": 24,
     "metadata": {},
     "output_type": "execute_result"
    }
   ],
   "source": [
    "4//2"
   ]
  },
  {
   "cell_type": "code",
   "execution_count": 26,
   "id": "98f6e610-1604-436e-b6ba-d11981d1a83b",
   "metadata": {},
   "outputs": [],
   "source": [
    "# ** oparator(it is used as power or exponential oparator)"
   ]
  },
  {
   "cell_type": "code",
   "execution_count": 27,
   "id": "6e1d1fc7-d307-4750-b388-974be9eaadbc",
   "metadata": {},
   "outputs": [
    {
     "data": {
      "text/plain": [
       "32"
      ]
     },
     "execution_count": 27,
     "metadata": {},
     "output_type": "execute_result"
    }
   ],
   "source": [
    "2**5"
   ]
  },
  {
   "cell_type": "code",
   "execution_count": 28,
   "id": "a8a6baad-d02c-4405-ad30-4281c8df8dec",
   "metadata": {},
   "outputs": [],
   "source": [
    "#Quetion no 4"
   ]
  },
  {
   "cell_type": "code",
   "execution_count": 2,
   "id": "6ca66ba6-134a-4c15-8665-8fb6c9c15c27",
   "metadata": {},
   "outputs": [],
   "source": [
    "list1=[1,'man',1.2,'aeroplane',5,6,7,8,40.2,\"india\"]"
   ]
  },
  {
   "cell_type": "code",
   "execution_count": 3,
   "id": "f77c2353-9cda-4262-8fa7-c444d169ad83",
   "metadata": {},
   "outputs": [],
   "source": [
    "i=0"
   ]
  },
  {
   "cell_type": "code",
   "execution_count": 4,
   "id": "00b63c3e-43d6-4c85-840c-b38704a79d3b",
   "metadata": {},
   "outputs": [
    {
     "name": "stdout",
     "output_type": "stream",
     "text": [
      "1\n",
      "<class 'int'>\n",
      "man\n",
      "<class 'str'>\n",
      "1.2\n",
      "<class 'float'>\n",
      "aeroplane\n",
      "<class 'str'>\n",
      "5\n",
      "<class 'int'>\n",
      "6\n",
      "<class 'int'>\n",
      "7\n",
      "<class 'int'>\n",
      "8\n",
      "<class 'int'>\n",
      "40.2\n",
      "<class 'float'>\n",
      "india\n",
      "<class 'str'>\n",
      "this is the list.\n"
     ]
    }
   ],
   "source": [
    "for i in list1 :\n",
    "    print(i)\n",
    "    print(type(i))\n",
    "   # i=i+1\n",
    "else :\n",
    "    print(\"this is the list.\")\n",
    "     "
   ]
  },
  {
   "cell_type": "code",
   "execution_count": 5,
   "id": "d3906f25-8e50-4ef0-8e8a-a841df5d0245",
   "metadata": {},
   "outputs": [],
   "source": [
    "# Question 6"
   ]
  },
  {
   "cell_type": "code",
   "execution_count": 12,
   "id": "aa07d05e-5421-49ba-9e90-59c53e915d1a",
   "metadata": {},
   "outputs": [],
   "source": [
    "ListA=[1,2,3,4,5,6,7,8,9,10,11,12,13,14,15,16,17,18,19,20,21,22,23,24,25]"
   ]
  },
  {
   "cell_type": "code",
   "execution_count": 13,
   "id": "1304e1e1-ee4d-45ef-a204-550e0713c8c0",
   "metadata": {},
   "outputs": [
    {
     "name": "stdout",
     "output_type": "stream",
     "text": [
      "3\n",
      "6\n",
      "9\n",
      "12\n",
      "15\n",
      "18\n",
      "21\n",
      "24\n",
      "these numbers are divisible by 3\n"
     ]
    }
   ],
   "source": [
    "i=0\n",
    "for i in ListA :\n",
    "    if i%3==0 :\n",
    "        print(i)\n",
    "        i=i+1\n",
    "else :\n",
    "    print(\"these numbers are divisible by 3\")\n",
    "    "
   ]
  },
  {
   "cell_type": "code",
   "execution_count": 10,
   "id": "cbdb49c8-c524-473f-8f25-068c5d04428e",
   "metadata": {},
   "outputs": [],
   "source": [
    "#question no 5"
   ]
  },
  {
   "cell_type": "code",
   "execution_count": 1,
   "id": "c3c84118-2e6f-4cc5-8f20-aad5e2cd8cce",
   "metadata": {},
   "outputs": [
    {
     "name": "stdin",
     "output_type": "stream",
     "text": [
      "A:  35\n",
      "B:  7\n"
     ]
    },
    {
     "name": "stdout",
     "output_type": "stream",
     "text": [
      "yes A is completely divisible by B by 5.0 times\n"
     ]
    }
   ],
   "source": [
    "A=int(input('A: '))\n",
    "B=int(input('B: '))\n",
    "while(A%B==0):\n",
    "    print(\"yes A is completely divisible by B by\", A/B ,\"times\")\n",
    "    break\n",
    "else:\n",
    "    print(\"NO\")\n"
   ]
  },
  {
   "cell_type": "code",
   "execution_count": 33,
   "id": "33bb8241-148f-4245-945e-09fb548026a9",
   "metadata": {},
   "outputs": [],
   "source": [
    "# Question no 7"
   ]
  },
  {
   "cell_type": "code",
   "execution_count": 34,
   "id": "8ba26000-b6ad-42e5-818b-d95dccb4d559",
   "metadata": {},
   "outputs": [],
   "source": [
    "# Mutable data types are the data types where we can change the content without chnaging identity. Example list.\n",
    "# Immutable data types are the data types wher we cannot make changes once created.Example Tuple.\n",
    "LIST=[1,2,3,\"ab\"]\n",
    "TUPLE=(1,2,3,\"ab\")"
   ]
  },
  {
   "cell_type": "code",
   "execution_count": 38,
   "id": "a3ae3d08-68e7-45d2-85fe-4d8d7d561d7d",
   "metadata": {},
   "outputs": [
    {
     "name": "stdout",
     "output_type": "stream",
     "text": [
      "[1, 500, 3, 'ab']\n"
     ]
    }
   ],
   "source": [
    "LIST[1]=500\n",
    "print(LIST)"
   ]
  },
  {
   "cell_type": "code",
   "execution_count": 39,
   "id": "e0c25e93-8f3c-4074-a776-504a7863c292",
   "metadata": {},
   "outputs": [
    {
     "ename": "TypeError",
     "evalue": "'tuple' object does not support item assignment",
     "output_type": "error",
     "traceback": [
      "\u001b[0;31m---------------------------------------------------------------------------\u001b[0m",
      "\u001b[0;31mTypeError\u001b[0m                                 Traceback (most recent call last)",
      "Cell \u001b[0;32mIn[39], line 1\u001b[0m\n\u001b[0;32m----> 1\u001b[0m \u001b[43mTUPLE\u001b[49m\u001b[43m[\u001b[49m\u001b[38;5;241;43m1\u001b[39;49m\u001b[43m]\u001b[49m\u001b[38;5;241m=\u001b[39m\u001b[38;5;241m505\u001b[39m\n\u001b[1;32m      2\u001b[0m \u001b[38;5;28mprint\u001b[39m(TUPLE)\n",
      "\u001b[0;31mTypeError\u001b[0m: 'tuple' object does not support item assignment"
     ]
    }
   ],
   "source": [
    "TUPLE[1]=505\n",
    "print(TUPLE)"
   ]
  },
  {
   "cell_type": "code",
   "execution_count": null,
   "id": "b0feb096-b0ae-4c04-9f13-0b7b1e081569",
   "metadata": {},
   "outputs": [],
   "source": []
  },
  {
   "cell_type": "code",
   "execution_count": null,
   "id": "ee33d6b1-cc43-4bca-9e0a-d042655ccee3",
   "metadata": {},
   "outputs": [],
   "source": []
  },
  {
   "cell_type": "code",
   "execution_count": null,
   "id": "f656a24c-53f8-47f9-8866-5f0800b6446e",
   "metadata": {},
   "outputs": [],
   "source": []
  },
  {
   "cell_type": "code",
   "execution_count": null,
   "id": "a2a47545-f151-41ed-9542-b43893fb0cb2",
   "metadata": {},
   "outputs": [],
   "source": []
  },
  {
   "cell_type": "code",
   "execution_count": null,
   "id": "5bc904da-ef44-410a-b1c2-06b6916dedc3",
   "metadata": {},
   "outputs": [],
   "source": []
  },
  {
   "cell_type": "code",
   "execution_count": null,
   "id": "fc849554-bf3a-4327-9841-f7c4fde91960",
   "metadata": {},
   "outputs": [],
   "source": []
  },
  {
   "cell_type": "code",
   "execution_count": null,
   "id": "6fa5afb0-cf78-4da1-ae51-955535e60ce5",
   "metadata": {},
   "outputs": [],
   "source": []
  }
 ],
 "metadata": {
  "kernelspec": {
   "display_name": "Python 3 (ipykernel)",
   "language": "python",
   "name": "python3"
  },
  "language_info": {
   "codemirror_mode": {
    "name": "ipython",
    "version": 3
   },
   "file_extension": ".py",
   "mimetype": "text/x-python",
   "name": "python",
   "nbconvert_exporter": "python",
   "pygments_lexer": "ipython3",
   "version": "3.10.8"
  }
 },
 "nbformat": 4,
 "nbformat_minor": 5
}
